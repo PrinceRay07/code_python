{
 "cells": [
  {
   "cell_type": "code",
   "execution_count": 5,
   "id": "fb02bf07",
   "metadata": {},
   "outputs": [
    {
     "name": "stdout",
     "output_type": "stream",
     "text": [
      "b is the greater one\n",
      "568\n",
      "576\n"
     ]
    }
   ],
   "source": [
    "a = 568\n",
    "b = 576\n",
    "if a > b:\n",
    "    print(\"a is greater than b\")\n",
    "else:\n",
    "    print(\"b is the greater one\")\n",
    "print(a)\n",
    "print(b)"
   ]
  },
  {
   "cell_type": "code",
   "execution_count": 6,
   "id": "da2e47b0",
   "metadata": {},
   "outputs": [
    {
     "name": "stdout",
     "output_type": "stream",
     "text": [
      "x is same as y\n"
     ]
    }
   ],
   "source": [
    "x=21\n",
    "y=21\n",
    "if(x < y): \n",
    "    st= \"x is less than y\" \n",
    "elif (x == y):\n",
    "    st= \"x is same as y\" \n",
    "else: \n",
    "    st=\"x is greater than y\" \n",
    "print(st)\n"
   ]
  },
  {
   "cell_type": "code",
   "execution_count": 11,
   "id": "e2d7e92b",
   "metadata": {},
   "outputs": [
    {
     "name": "stdout",
     "output_type": "stream",
     "text": [
      "Enter the number:-7\n",
      "It is a negative number\n"
     ]
    }
   ],
   "source": [
    "a=float(input(\"Enter the number:\"))\n",
    "if a > 0:\n",
    "    print (\"It is a positive number\")\n",
    "elif a < 0:\n",
    "    print (\"It is a negative number\")\n",
    "else:\n",
    "    print (\"Zero\")"
   ]
  },
  {
   "cell_type": "code",
   "execution_count": 16,
   "id": "51aee4b2",
   "metadata": {},
   "outputs": [
    {
     "name": "stdout",
     "output_type": "stream",
     "text": [
      "Enter the number:654\n",
      "It is an even number= 654\n"
     ]
    }
   ],
   "source": [
    "x=int(input(\"Enter the number:\"))\n",
    "if (x % 2)==0:\n",
    "    print (\"It is an even number=\", x )\n",
    "else:\n",
    "    print (\"It is an odd number=\", x)"
   ]
  },
  {
   "cell_type": "code",
   "execution_count": null,
   "id": "e54e1795",
   "metadata": {},
   "outputs": [],
   "source": []
  }
 ],
 "metadata": {
  "kernelspec": {
   "display_name": "Python 3",
   "language": "python",
   "name": "python3"
  },
  "language_info": {
   "codemirror_mode": {
    "name": "ipython",
    "version": 3
   },
   "file_extension": ".py",
   "mimetype": "text/x-python",
   "name": "python",
   "nbconvert_exporter": "python",
   "pygments_lexer": "ipython3",
   "version": "3.8.11"
  }
 },
 "nbformat": 4,
 "nbformat_minor": 5
}
