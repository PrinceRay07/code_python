{
 "cells": [
  {
   "cell_type": "code",
   "execution_count": 2,
   "id": "76fbc310",
   "metadata": {},
   "outputs": [
    {
     "name": "stdout",
     "output_type": "stream",
     "text": [
      "hello world\n"
     ]
    }
   ],
   "source": [
    "print('hello world')"
   ]
  },
  {
   "cell_type": "code",
   "execution_count": 10,
   "id": "f66a2b8b",
   "metadata": {},
   "outputs": [
    {
     "name": "stdout",
     "output_type": "stream",
     "text": [
      "enter the first number:679\n",
      "enter the second number:74.4\n",
      "753.4\n"
     ]
    }
   ],
   "source": [
    "#sum of numbers\n",
    "a=int(input('enter the first number:'))\n",
    "b=float(input('enter the second number:'))\n",
    "c=float(a) + float(b)\n",
    "\n",
    "print(c)"
   ]
  },
  {
   "cell_type": "code",
   "execution_count": 14,
   "id": "64199db6",
   "metadata": {},
   "outputs": [
    {
     "data": {
      "text/plain": [
       "'RINC'"
      ]
     },
     "execution_count": 14,
     "metadata": {},
     "output_type": "execute_result"
    }
   ],
   "source": [
    "p='PRINCE'\n",
    "p[1:5]"
   ]
  },
  {
   "cell_type": "code",
   "execution_count": 15,
   "id": "cf700b98",
   "metadata": {},
   "outputs": [
    {
     "data": {
      "text/plain": [
       "6"
      ]
     },
     "execution_count": 15,
     "metadata": {},
     "output_type": "execute_result"
    }
   ],
   "source": [
    "len(p)"
   ]
  },
  {
   "cell_type": "code",
   "execution_count": 17,
   "id": "edb1a1cc",
   "metadata": {},
   "outputs": [
    {
     "data": {
      "text/plain": [
       "'END'"
      ]
     },
     "execution_count": 17,
     "metadata": {},
     "output_type": "execute_result"
    }
   ],
   "source": [
    "s='FRIENDSHIP'\n",
    "s[3:6]"
   ]
  },
  {
   "cell_type": "code",
   "execution_count": null,
   "id": "9444dba5",
   "metadata": {},
   "outputs": [],
   "source": []
  }
 ],
 "metadata": {
  "kernelspec": {
   "display_name": "Python 3",
   "language": "python",
   "name": "python3"
  },
  "language_info": {
   "codemirror_mode": {
    "name": "ipython",
    "version": 3
   },
   "file_extension": ".py",
   "mimetype": "text/x-python",
   "name": "python",
   "nbconvert_exporter": "python",
   "pygments_lexer": "ipython3",
   "version": "3.8.11"
  }
 },
 "nbformat": 4,
 "nbformat_minor": 5
}
